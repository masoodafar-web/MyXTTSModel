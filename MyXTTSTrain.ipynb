{
 "cells": [
  {
   "cell_type": "code",
   "execution_count": 1,
   "id": "2a700d5d",
   "metadata": {},
   "outputs": [
    {
     "name": "stdout",
     "output_type": "stream",
     "text": [
      "False\n"
     ]
    }
   ],
   "source": [
    "import os\n",
    "print(os.path.exists(\".../dataset/dataset_train/\"))"
   ]
  },
  {
   "cell_type": "code",
   "execution_count": 2,
   "id": "e8c5d4b2",
   "metadata": {},
   "outputs": [
    {
     "name": "stderr",
     "output_type": "stream",
     "text": [
      "2025-09-13 02:14:08.989914: E external/local_xla/xla/stream_executor/cuda/cuda_fft.cc:467] Unable to register cuFFT factory: Attempting to register factory for plugin cuFFT when one has already been registered\n",
      "WARNING: All log messages before absl::InitializeLog() is called are written to STDERR\n",
      "E0000 00:00:1757717049.007369 1151298 cuda_dnn.cc:8579] Unable to register cuDNN factory: Attempting to register factory for plugin cuDNN when one has already been registered\n",
      "E0000 00:00:1757717049.013507 1151298 cuda_blas.cc:1407] Unable to register cuBLAS factory: Attempting to register factory for plugin cuBLAS when one has already been registered\n",
      "W0000 00:00:1757717049.032174 1151298 computation_placer.cc:177] computation placer already registered. Please check linkage and avoid linking the same target more than once.\n",
      "W0000 00:00:1757717049.032190 1151298 computation_placer.cc:177] computation placer already registered. Please check linkage and avoid linking the same target more than once.\n",
      "W0000 00:00:1757717049.032192 1151298 computation_placer.cc:177] computation placer already registered. Please check linkage and avoid linking the same target more than once.\n",
      "W0000 00:00:1757717049.032194 1151298 computation_placer.cc:177] computation placer already registered. Please check linkage and avoid linking the same target more than once.\n",
      "2025-09-13 02:14:09.040565: I tensorflow/core/platform/cpu_feature_guard.cc:210] This TensorFlow binary is optimized to use available CPU instructions in performance-critical operations.\n",
      "To enable the following instructions: AVX2 FMA, in other operations, rebuild TensorFlow with the appropriate compiler flags.\n",
      "/home/dev371/.local/lib/python3.10/site-packages/matplotlib/projections/__init__.py:63: UserWarning: Unable to import Axes3D. This may be due to multiple versions of Matplotlib being installed (e.g. as a system package and as a pip package). As a result, the 3D projection is not available.\n",
      "  warnings.warn(\"Unable to import Axes3D. This may be due to multiple versions of \"\n"
     ]
    },
    {
     "name": "stdout",
     "output_type": "stream",
     "text": [
      "Performance monitoring started\n"
     ]
    }
   ],
   "source": [
    "os.environ[\"CUDA_VISIBLE_DEVICES\"] = \"0,1\"\n",
    "\n",
    "from myxtts.config.config import XTTSConfig,ModelConfig,DataConfig,TrainingConfig\n",
    "from myxtts import get_xtts_model, get_trainer, get_inference_engine\n",
    "from myxtts.utils.performance import start_performance_monitoring\n",
    "start_performance_monitoring()\n",
    "\n",
    "m=ModelConfig(\n",
    "    text_encoder_dim=256,\n",
    "    decoder_dim=512,\n",
    "    n_mels=80,\n",
    "    use_voice_conditioning=True\n",
    ")\n",
    "t=TrainingConfig(\n",
    "    epochs=200,\n",
    "    learning_rate=5e-5,\n",
    "    optimizer=\"adamw\",\n",
    "    warmup_steps=2000,\n",
    ")\n",
    "d=DataConfig(\n",
    "    batch_size=2,\n",
    "    metadata_train_file=\"metadata_train.csv\",\n",
    "    metadata_eval_file=\"metadata_eval.csv\",\n",
    "    wavs_train_dir=\"wavs\",\n",
    "    wavs_eval_dir=\"wavs\",\n",
    "    sample_rate=22050,\n",
    "    normalize_audio=True,\n",
    "    num_workers=16,\n",
    "    enable_memory_mapping=True\n",
    ")\n",
    "# Load configuration\n",
    "config = XTTSConfig(\n",
    "    model=m,\n",
    "    training=t, \n",
    "    data=d\n",
    ")\n",
    "#config = XTTSConfig.from_yaml(\"config.yaml\")\n",
    "\n"
   ]
  },
  {
   "cell_type": "code",
   "execution_count": null,
   "id": "9235a902",
   "metadata": {},
   "outputs": [
    {
     "name": "stderr",
     "output_type": "stream",
     "text": [
      "I0000 00:00:1757717053.429481 1151298 gpu_device.cc:2019] Created device /job:localhost/replica:0/task:0/device:GPU:0 with 22135 MB memory:  -> device: 0, name: NVIDIA GeForce RTX 4090, pci bus id: 0000:01:00.0, compute capability: 8.9\n",
      "I0000 00:00:1757717053.430090 1151298 gpu_device.cc:2019] Created device /job:localhost/replica:0/task:0/device:GPU:1 with 20786 MB memory:  -> device: 1, name: NVIDIA GeForce RTX 4090, pci bus id: 0000:4d:00.0, compute capability: 8.9\n",
      "2025-09-13 02:14:14,979 - MyXTTS - INFO - Using device: CPU\n",
      "2025-09-13 02:14:14,980 - MyXTTS - INFO - Using strategy: _DefaultDistributionStrategy\n"
     ]
    },
    {
     "name": "stdout",
     "output_type": "stream",
     "text": [
      "GPU setup error: Physical devices cannot be modified after being initialized\n",
      "Loaded 20509 items for train subset\n",
      "Loaded 2591 items for val subset\n",
      "Precomputing mel spectrograms to ../dataset/dataset_train/processed/mels_sr22050_n80_hop256 (overwrite=False)...\n",
      "All mel spectrograms already cached.\n",
      "Precomputing mel spectrograms to ../dataset/dataset_eval/processed/mels_sr22050_n80_hop256 (overwrite=False)...\n",
      "All mel spectrograms already cached.\n"
     ]
    },
    {
     "name": "stderr",
     "output_type": "stream",
     "text": [
      "2025-09-13 02:14:22,731 - MyXTTS - INFO - Cache verify: train {'checked': 20509, 'fixed': 0, 'failed': 0}, val {'checked': 2591, 'fixed': 0, 'failed': 0}\n",
      "2025-09-13 02:14:23,849 - MyXTTS - INFO - Using cached items - train: 20509, val: 2591\n",
      "2025-09-13 02:14:25,316 - MyXTTS - INFO - Training samples: 20509\n",
      "2025-09-13 02:14:25,317 - MyXTTS - INFO - Validation samples: 2591\n",
      "2025-09-13 02:14:25,317 - MyXTTS - INFO - Data loading performance:\n",
      "2025-09-13 02:14:25,317 - MyXTTS - INFO - === Data Loading Profile ===\n",
      "\n",
      "Cache Efficiency: 0.0%\n",
      "  Hits: 0\n",
      "  Misses: 0\n",
      "  Errors: 0\n",
      "\n",
      "\n",
      "2025-09-13 02:14:25,318 - MyXTTS - INFO - Starting training for 200 epochs\n",
      "2025-09-13 02:14:25,318 - MyXTTS - INFO - Current step: 0\n"
     ]
    },
    {
     "name": "stdout",
     "output_type": "stream",
     "text": [
      "Performance monitoring started\n"
     ]
    },
    {
     "name": "stderr",
     "output_type": "stream",
     "text": [
      "Epoch 0:   0%|          | 0/10255 [00:00<?, ?it/s]/home/dev371/.local/lib/python3.10/site-packages/keras/src/layers/layer.py:421: UserWarning: `build()` was called on layer 'xtts', however the layer does not have a `build()` method implemented and it looks like it has unbuilt state. This will cause the layer to be marked as built, despite not being actually built, which may cause failures down the line. Make sure to implement a proper `build()` method.\n",
      "  warnings.warn(\n",
      "Epoch 0:   0%|          | 38/10255 [01:17<4:53:44,  1.72s/it, loss=94.5190, step=38, data_ms=0.4, comp_ms=1675.3, mel=2.10, stop=0.071]  "
     ]
    }
   ],
   "source": [
    "# Training\n",
    "model = get_xtts_model()(config.model)\n",
    "trainer = get_trainer()(config, model)\n",
    "train_dataset, val_dataset = trainer.prepare_datasets(train_data_path=\"../dataset/dataset_train\",val_data_path=\"../dataset/dataset_eval\")\n",
    "trainer.train(train_dataset, val_dataset)\n"
   ]
  },
  {
   "cell_type": "code",
   "execution_count": null,
   "id": "340686de",
   "metadata": {},
   "outputs": [],
   "source": [
    "\n",
    "# Inference\n",
    "inference = get_inference_engine()(config, checkpoint_path=\"./checkpoints/best\")\n",
    "result = inference.synthesize(\"Hello world!\")\n",
    "inference.save_audio(result[\"audio\"], \"output.wav\")"
   ]
  }
 ],
 "metadata": {
  "kernelspec": {
   "display_name": "Python 3",
   "language": "python",
   "name": "python3"
  },
  "language_info": {
   "codemirror_mode": {
    "name": "ipython",
    "version": 3
   },
   "file_extension": ".py",
   "mimetype": "text/x-python",
   "name": "python",
   "nbconvert_exporter": "python",
   "pygments_lexer": "ipython3",
   "version": "3.10.12"
  }
 },
 "nbformat": 4,
 "nbformat_minor": 5
}
