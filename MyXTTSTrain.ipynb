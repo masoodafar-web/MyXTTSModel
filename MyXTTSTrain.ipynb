{
 "cells": [
  {
   "cell_type": "code",
   "execution_count": 1,
   "id": "e8c5d4b2",
   "metadata": {},
   "outputs": [
    {
     "ename": "ValueError",
     "evalue": "Unknown parameter: data_config. Valid parameters are: ['add_blank', 'audio_encoder_dim', 'audio_encoder_heads', 'audio_encoder_layers', 'batch_size', 'beta1', 'beta2', 'checkpoint_dir', 'dataset_name', 'dataset_path', 'decoder_dim', 'decoder_heads', 'decoder_layers', 'duration_loss_weight', 'epochs', 'eps', 'gradient_clip_norm', 'hop_length', 'kl_loss_weight', 'language', 'languages', 'learning_rate', 'log_step', 'max_audio_length', 'max_text_length', 'mel_loss_weight', 'metadata_eval_file', 'metadata_train_file', 'min_audio_length', 'n_fft', 'n_mels', 'normalize_audio', 'num_workers', 'optimizer', 'reference_audio_length', 'sample_rate', 'save_step', 'scheduler', 'scheduler_params', 'speaker_embedding_dim', 'text_cleaners', 'text_encoder_dim', 'text_encoder_heads', 'text_encoder_layers', 'text_vocab_size', 'tokenizer_model', 'tokenizer_type', 'train_split', 'trim_silence', 'use_voice_conditioning', 'use_wandb', 'val_split', 'val_step', 'wandb_project', 'warmup_steps', 'wavs_eval_dir', 'wavs_train_dir', 'weight_decay', 'win_length']",
     "output_type": "error",
     "traceback": [
      "\u001b[0;31m---------------------------------------------------------------------------\u001b[0m",
      "\u001b[0;31mValueError\u001b[0m                                Traceback (most recent call last)",
      "\u001b[0;32m/tmp/ipykernel_1760730/2738908310.py\u001b[0m in \u001b[0;36m<module>\u001b[0;34m\u001b[0m\n\u001b[1;32m     25\u001b[0m )\n\u001b[1;32m     26\u001b[0m \u001b[0;31m# Load configuration\u001b[0m\u001b[0;34m\u001b[0m\u001b[0;34m\u001b[0m\u001b[0m\n\u001b[0;32m---> 27\u001b[0;31m config = XTTSConfig(\n\u001b[0m\u001b[1;32m     28\u001b[0m     \u001b[0mdata\u001b[0m\u001b[0;34m=\u001b[0m\u001b[0mm\u001b[0m\u001b[0;34m,\u001b[0m\u001b[0;34m\u001b[0m\u001b[0;34m\u001b[0m\u001b[0m\n\u001b[1;32m     29\u001b[0m     \u001b[0mtraining\u001b[0m\u001b[0;34m=\u001b[0m\u001b[0mt\u001b[0m\u001b[0;34m,\u001b[0m\u001b[0;34m\u001b[0m\u001b[0;34m\u001b[0m\u001b[0m\n",
      "\u001b[0;32m~/xTTS/MyXTTSModel/myxtts/config/config.py\u001b[0m in \u001b[0;36m__init__\u001b[0;34m(self, model, data, training, **kwargs)\u001b[0m\n\u001b[1;32m    168\u001b[0m         \u001b[0;31m# If kwargs provided, distribute them to appropriate configs\u001b[0m\u001b[0;34m\u001b[0m\u001b[0;34m\u001b[0m\u001b[0m\n\u001b[1;32m    169\u001b[0m         \u001b[0;32mif\u001b[0m \u001b[0mkwargs\u001b[0m\u001b[0;34m:\u001b[0m\u001b[0;34m\u001b[0m\u001b[0;34m\u001b[0m\u001b[0m\n\u001b[0;32m--> 170\u001b[0;31m             \u001b[0mmodel_kwargs\u001b[0m\u001b[0;34m,\u001b[0m \u001b[0mdata_kwargs\u001b[0m\u001b[0;34m,\u001b[0m \u001b[0mtraining_kwargs\u001b[0m \u001b[0;34m=\u001b[0m \u001b[0mself\u001b[0m\u001b[0;34m.\u001b[0m\u001b[0m_distribute_kwargs\u001b[0m\u001b[0;34m(\u001b[0m\u001b[0mkwargs\u001b[0m\u001b[0;34m)\u001b[0m\u001b[0;34m\u001b[0m\u001b[0;34m\u001b[0m\u001b[0m\n\u001b[0m\u001b[1;32m    171\u001b[0m \u001b[0;34m\u001b[0m\u001b[0m\n\u001b[1;32m    172\u001b[0m             \u001b[0;31m# Update configs with kwargs\u001b[0m\u001b[0;34m\u001b[0m\u001b[0;34m\u001b[0m\u001b[0m\n",
      "\u001b[0;32m~/xTTS/MyXTTSModel/myxtts/config/config.py\u001b[0m in \u001b[0;36m_distribute_kwargs\u001b[0;34m(kwargs)\u001b[0m\n\u001b[1;32m    245\u001b[0m                     \u001b[0mdata_kwargs\u001b[0m\u001b[0;34m[\u001b[0m\u001b[0mkey\u001b[0m\u001b[0;34m]\u001b[0m \u001b[0;34m=\u001b[0m \u001b[0mvalue\u001b[0m\u001b[0;34m\u001b[0m\u001b[0;34m\u001b[0m\u001b[0m\n\u001b[1;32m    246\u001b[0m                 \u001b[0;32melse\u001b[0m\u001b[0;34m:\u001b[0m\u001b[0;34m\u001b[0m\u001b[0;34m\u001b[0m\u001b[0m\n\u001b[0;32m--> 247\u001b[0;31m                     raise ValueError(f\"Unknown parameter: {key}. \"\n\u001b[0m\u001b[1;32m    248\u001b[0m                                    f\"Valid parameters are: {sorted(model_fields | data_fields | training_fields)}\")\n\u001b[1;32m    249\u001b[0m \u001b[0;34m\u001b[0m\u001b[0m\n",
      "\u001b[0;31mValueError\u001b[0m: Unknown parameter: data_config. Valid parameters are: ['add_blank', 'audio_encoder_dim', 'audio_encoder_heads', 'audio_encoder_layers', 'batch_size', 'beta1', 'beta2', 'checkpoint_dir', 'dataset_name', 'dataset_path', 'decoder_dim', 'decoder_heads', 'decoder_layers', 'duration_loss_weight', 'epochs', 'eps', 'gradient_clip_norm', 'hop_length', 'kl_loss_weight', 'language', 'languages', 'learning_rate', 'log_step', 'max_audio_length', 'max_text_length', 'mel_loss_weight', 'metadata_eval_file', 'metadata_train_file', 'min_audio_length', 'n_fft', 'n_mels', 'normalize_audio', 'num_workers', 'optimizer', 'reference_audio_length', 'sample_rate', 'save_step', 'scheduler', 'scheduler_params', 'speaker_embedding_dim', 'text_cleaners', 'text_encoder_dim', 'text_encoder_heads', 'text_encoder_layers', 'text_vocab_size', 'tokenizer_model', 'tokenizer_type', 'train_split', 'trim_silence', 'use_voice_conditioning', 'use_wandb', 'val_split', 'val_step', 'wandb_project', 'warmup_steps', 'wavs_eval_dir', 'wavs_train_dir', 'weight_decay', 'win_length']"
     ]
    }
   ],
   "source": [
    "import os\n",
    "os.environ[\"CUDA_VISIBLE_DEVICES\"] = \"1\"\n",
    "\n",
    "from myxtts.config.config import XTTSConfig,ModelConfig,DataConfig,TrainingConfig\n",
    "from myxtts import get_xtts_model, get_trainer, get_inference_engine\n",
    "\n",
    "m=ModelConfig(\n",
    "    text_encoder_dim=256,\n",
    "    decoder_dim=512,\n",
    "    n_mels=80,\n",
    "    use_voice_conditioning=True\n",
    ")\n",
    "t=TrainingConfig(\n",
    "    epochs=200,\n",
    "    learning_rate=5e-5,\n",
    "    optimizer=\"adamw\",\n",
    "    warmup_steps=2000,\n",
    ")\n",
    "d=DataConfig(\n",
    "    batch_size=8,\n",
    "    metadata_train_file=\"./data/train_metadata.csv\",\n",
    "    metadata_eval_file=\"./data/eval_metadata.csv\",\n",
    "    sample_rate=22050,\n",
    "    normalize_audio=True,\n",
    ")\n",
    "# Load configuration\n",
    "config = XTTSConfig(\n",
    "    data=m,\n",
    "    training=t, \n",
    "    data_config=d\n",
    ")\n",
    "#config = XTTSConfig.from_yaml(\"config.yaml\")\n",
    "\n"
   ]
  },
  {
   "cell_type": "code",
   "execution_count": null,
   "id": "9235a902",
   "metadata": {},
   "outputs": [],
   "source": [
    "# Training\n",
    "model = get_xtts_model()(config.model)\n",
    "trainer = get_trainer()(config, model)\n",
    "train_dataset, val_dataset = trainer.prepare_datasets(\"./data/ljspeech\")\n",
    "trainer.train(train_dataset, val_dataset)\n",
    "\n",
    "# Inference\n",
    "inference = get_inference_engine()(config, checkpoint_path=\"./checkpoints/best\")\n",
    "result = inference.synthesize(\"Hello world!\")\n",
    "inference.save_audio(result[\"audio\"], \"output.wav\")"
   ]
  },
  {
   "cell_type": "code",
   "execution_count": null,
   "id": "381ab040",
   "metadata": {},
   "outputs": [],
   "source": []
  },
  {
   "cell_type": "code",
   "execution_count": null,
   "id": "44c7113d",
   "metadata": {},
   "outputs": [],
   "source": []
  },
  {
   "cell_type": "code",
   "execution_count": null,
   "id": "e0d6de85",
   "metadata": {},
   "outputs": [],
   "source": []
  }
 ],
 "metadata": {
  "kernelspec": {
   "display_name": "Python 3",
   "language": "python",
   "name": "python3"
  },
  "language_info": {
   "codemirror_mode": {
    "name": "ipython",
    "version": 3
   },
   "file_extension": ".py",
   "mimetype": "text/x-python",
   "name": "python",
   "nbconvert_exporter": "python",
   "pygments_lexer": "ipython3",
   "version": "3.10.12"
  }
 },
 "nbformat": 4,
 "nbformat_minor": 5
}
